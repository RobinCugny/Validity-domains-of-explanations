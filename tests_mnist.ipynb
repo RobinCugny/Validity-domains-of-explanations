{
 "cells": [
  {
   "cell_type": "code",
   "execution_count": 1,
   "metadata": {},
   "outputs": [],
   "source": [
    "from utils import load_dataset, train_model, validity_domains, compute_precs_cov_VD\n",
    "import shap"
   ]
  },
  {
   "cell_type": "code",
   "execution_count": 2,
   "metadata": {},
   "outputs": [
    {
     "name": "stdout",
     "output_type": "stream",
     "text": [
      "Model: \"sequential\"\n",
      "_________________________________________________________________\n",
      " Layer (type)                Output Shape              Param #   \n",
      "=================================================================\n",
      " conv2d (Conv2D)             (None, 6, 6, 32)          320       \n",
      "                                                                 \n",
      " flatten (Flatten)           (None, 1152)              0         \n",
      "                                                                 \n",
      " dropout (Dropout)           (None, 1152)              0         \n",
      "                                                                 \n",
      " dense (Dense)               (None, 10)                11530     \n",
      "                                                                 \n",
      "=================================================================\n",
      "Total params: 11,850\n",
      "Trainable params: 11,850\n",
      "Non-trainable params: 0\n",
      "_________________________________________________________________\n",
      "None\n",
      "25/25 [==============================] - 1s 4ms/step - loss: 2.1059 - accuracy: 0.3850\n",
      "32/32 [==============================] - 0s 2ms/step - loss: 1.8327 - accuracy: 0.8020\n",
      "[1.83269464969635, 0.8019999861717224]\n",
      "7/7 [==============================] - 0s 2ms/step - loss: 1.8710 - accuracy: 0.7600\n",
      "[1.8710052967071533, 0.7599999904632568]\n"
     ]
    }
   ],
   "source": [
    "dataset = \"MNIST_mini\"\n",
    "model_name = \"image\"\n",
    "X_train, X_test, y_train, y_test, X, y, feature_names = load_dataset(dataset)\n",
    "model = train_model(X_train,y_train, model_name)\n",
    "print(model.evaluate(X, y))\n",
    "print(model.evaluate(X_test, y_test))"
   ]
  },
  {
   "cell_type": "code",
   "execution_count": 3,
   "metadata": {},
   "outputs": [
    {
     "name": "stderr",
     "output_type": "stream",
     "text": [
      "keras is no longer supported, please use tf.keras instead.\n",
      "Your TensorFlow version is newer than 2.4.0 and so graph support has been removed in eager mode and some static graphs may not be supported. See PR #1483 for discussion.\n",
      "`tf.keras.backend.set_learning_phase` is deprecated and will be removed after 2020-10-11. To update it, simply pass a True/False value to the `training` argument of the `__call__` method of your layer or model.\n"
     ]
    }
   ],
   "source": [
    "VD, models_VD, explainer = validity_domains(X_train,feature_names,model,threshold_diff=0.3,gamma=50, method=\"DeepSHAP\")"
   ]
  },
  {
   "cell_type": "code",
   "execution_count": null,
   "metadata": {},
   "outputs": [],
   "source": [
    "e = shap.DeepExplainer(model, X_train)\n",
    "shap_values = e.shap_values(X_test[1:5])\n",
    "shap.image_plot(shap_values, -X_test[1:5])"
   ]
  },
  {
   "cell_type": "code",
   "execution_count": null,
   "metadata": {},
   "outputs": [],
   "source": [
    "import numpy as np\n",
    "def compute_precs_cov_VD_img(X, X_train, model, models_VD, replace_empty = True):\n",
    "\n",
    "    X_train_flat=X_train.reshape(X_train.shape[0],X_train.shape[1]*X_train.shape[2])\n",
    "    X_flat=X.reshape(X.shape[0],X.shape[1]*X.shape[2])\n",
    "\n",
    "    precs = []\n",
    "    coverages = []\n",
    "    coverages_train = []\n",
    "    y_pred_train = np.argmax(model.predict(X_train), axis=1)\n",
    "    y_pred = np.argmax(model.predict(X), axis=1)\n",
    "    for i in range(len(X_train)):\n",
    "        m=models_VD[i]\n",
    "\n",
    "        A_train = np.where(m.predict(X_train_flat)==1)\n",
    "        A = np.where(m.predict(X_flat)==1)\n",
    "        if np.asarray(A_train).size != 0:\n",
    "            # pred_i = model.predict(np.asarray(X_train[i]).reshape(1,-1))\n",
    "            pred_i = y_pred_train[i]\n",
    "            pred_A = y_pred[A]\n",
    "            prec = np.sum(pred_i == pred_A)/len(A[0])\n",
    "            cov_train = len(A_train[0])/len(X_train)\n",
    "            cov = len(A[0])/len(X)        \n",
    "            precs.append(prec)\n",
    "            coverages.append(cov)\n",
    "            coverages_train.append(cov_train)\n",
    "        else:\n",
    "            if replace_empty:\n",
    "                precs.append(0) \n",
    "                coverages.append(0)\n",
    "                coverages_train.append(0)\n",
    "    return precs, coverages, coverages_train\n"
   ]
  },
  {
   "cell_type": "code",
   "execution_count": null,
   "metadata": {},
   "outputs": [],
   "source": [
    "precs,covs,covs_train = compute_precs_cov_VD_img(X, X_train, model, models_VD)"
   ]
  },
  {
   "cell_type": "code",
   "execution_count": null,
   "metadata": {},
   "outputs": [],
   "source": [
    "import matplotlib.pyplot as plt\n",
    "import seaborn as sns\n",
    "import pandas as pd\n",
    "from sklearn.inspection import DecisionBoundaryDisplay\n",
    "from sklearn.decomposition import PCA\n",
    "def explanation_VD_img(idx, X_test, X_train, VD, model, models_VD, explainer, feature_names):\n",
    "    vd = VD[idx]\n",
    "    X_train_flat=X_train.reshape(X_train.shape[0],X_train.shape[1]*X_train.shape[2])\n",
    "    pca = PCA(n_components=2)\n",
    "    X_train_PCA = pca.fit_transform(X_train_flat)\n",
    "\n",
    "    X_test_flat=X_test.reshape(X_test.shape[0],X_test.shape[1]*X_test.shape[2])\n",
    "    pca = PCA(n_components=2)\n",
    "    X_test_PCA = pca.fit_transform(X_test_flat)\n",
    "\n",
    "    plt.figure()\n",
    "    # disp = DecisionBoundaryDisplay.from_estimator(models_VD[idx], X_train,eps=0.1, grid_resolution=500, alpha=0.4, response_method=\"predict\", plot_method='contour')\n",
    "    y_pred_train = np.argmax(model.predict(X_train), axis=1)\n",
    "    plt.scatter(X_train_PCA[:,0],X_train_PCA[:,1], c = y_pred_train, edgecolor='k',cmap='viridis')\n",
    "    plt.scatter(X_train_PCA[:,0][np.where(vd)],X_train_PCA[:,1][np.where(vd)], edgecolor='k',cmap='winter', marker='X')\n",
    "    plt.scatter(X_test_PCA[:,0],X_test_PCA[:,1], c='white',edgecolor='k')\n",
    "    plt.scatter(X_train_PCA[idx,0],X_train_PCA[idx,1], c='r', marker='X')\n",
    "    plt.xlabel(feature_names[0])\n",
    "    plt.ylabel(feature_names[1])\n",
    "    plt.xlabel(\"$x_0$\")\n",
    "    plt.ylabel(\"$x_1$\")\n",
    "    plt.show()\n",
    "\n",
    "    m = models_VD[idx]\n",
    "    A_train = np.where(m.predict(X_train_flat)==1)\n",
    "    e = shap.DeepExplainer(model, X_train)\n",
    "    shap_values = e.shap_values(X_train[A_train])\n",
    "    shap.image_plot(shap_values, X_train[A_train])\n",
    "    print(np.argmax(model.predict(X_train[A_train]), axis=1))\n",
    "\n",
    "\n",
    "    # shap_values = explainer(X_train)\n",
    "\n",
    "    # m = models_VD[idx]\n",
    "    # A_train = np.where(m.predict(X_train)==1)\n",
    "    # print(\"Explanation\")\n",
    "    # print(shap_values[idx])\n",
    "    # values = np.argsort(np.abs(shap_values[idx].values))\n",
    "    # a = np.asarray([[shap_values[idx].values[values[0]], 0],[shap_values[idx].values[values[1]], 1]])\n",
    "    # plt.scatter(a[:,0],a[:,1],s=100, c='k', marker='X')\n",
    "    # shap.plots.beeswarm(shap_values[A_train])\n",
    "    # shap.plots.waterfall(shap_values[idx])\n",
    "\n",
    "    # data_col = []\n",
    "    # feature_col = []\n",
    "    # exp_col = []\n",
    "    # for i in A_train[0]:\n",
    "    #     for f in range(len(feature_names)):\n",
    "    #         data_col.append(X_train[i][f])\n",
    "    #         feature_col.append(feature_names[f])\n",
    "    #         exp_col.append(shap_values.values[i][f])\n",
    "    # df = pd.DataFrame(np.asarray([data_col, feature_col, exp_col]).T, columns=[\"feature values\", \"feature names\", \"exp_col\"])\n",
    "    # df[\"feature values\"] = df[\"feature values\"].astype('float')\n",
    "    # df[\"exp_col\"] = df[\"exp_col\"].astype('float')\n",
    "\n",
    "    # norm = plt.Normalize(df[\"exp_col\"].min(), df[\"exp_col\"].max())\n",
    "    # sm = plt.cm.ScalarMappable(cmap=\"PiYG\", norm=norm)\n",
    "    # ax = sns.swarmplot(data=df, x=\"feature names\", y=\"feature values\", hue=\"exp_col\", palette=\"PiYG\")\n",
    "    # data_col = []\n",
    "    # feature_col = []\n",
    "    # exp_col = []\n",
    "    # for f in range(len(feature_names)):\n",
    "    #     data_col.append(X_train[idx][f])\n",
    "    #     feature_col.append(feature_names[f])\n",
    "    #     exp_col.append(shap_values.values[idx][f])\n",
    "    # df_2 = pd.DataFrame(np.asarray([data_col, feature_col, exp_col]).T, columns=[\"feature values\", \"feature names\", \"exp_col\"])\n",
    "    # df_2[\"feature values\"] = df[\"feature values\"].astype('float')\n",
    "    # df_2[\"exp_col\"] = df[\"exp_col\"].astype('float')\n",
    "    # sns.swarmplot(data=df_2, x=\"feature names\", y=\"feature values\", hue=\"exp_col\", color=\"k\", marker='X',size = 10)\n",
    "    # sm.set_array([])\n",
    "\n",
    "    # # Remove the legend and add a colorbar\n",
    "    # ax.get_legend().remove()\n",
    "    # ax.figure.colorbar(sm)\n",
    "    # ax.text(1.02, -0.05, \"SHAP values\", ha=\"left\", va=\"top\", transform=ax.transAxes)\n",
    "    # plt.savefig('toy_ex/inverted_beeswarm.pdf')\n",
    "    # plt.show()\n",
    "    # # ax = sns.swarmplot(data=pd.DataFrame(X_train[A_train],columns=feature_names))\n",
    "    # # ax.set(xlabel=\"Features\", ylabel=\"Value\", title=\"Data distribution in validity domain\")\n"
   ]
  },
  {
   "cell_type": "code",
   "execution_count": null,
   "metadata": {},
   "outputs": [],
   "source": [
    "np.argsort(np.asarray(precs)+np.asarray(covs))[::-1]"
   ]
  },
  {
   "cell_type": "code",
   "execution_count": null,
   "metadata": {},
   "outputs": [],
   "source": [
    "precs[513]"
   ]
  },
  {
   "cell_type": "code",
   "execution_count": null,
   "metadata": {},
   "outputs": [],
   "source": [
    "covs[513]"
   ]
  },
  {
   "cell_type": "code",
   "execution_count": null,
   "metadata": {},
   "outputs": [],
   "source": [
    "explanation_VD_img(644, X_test, X_train, VD, model, models_VD, explainer, feature_names)"
   ]
  },
  {
   "attachments": {},
   "cell_type": "markdown",
   "metadata": {},
   "source": [
    "# Grid search"
   ]
  },
  {
   "cell_type": "code",
   "execution_count": null,
   "metadata": {},
   "outputs": [],
   "source": [
    "from sklearn.svm import OneClassSVM\n",
    "from sklearn.metrics import accuracy_score, pairwise_distances\n",
    "\n",
    "def compute_VD_and_scores_img(X, X_train, model,threshold_diff, gamma, shap_values, shap_values_train, dists_exp, replace_empty=True):\n",
    "\n",
    "    if threshold_diff==\"auto\":\n",
    "        threshold_diff = 0.1 * X_train.shape[1]/2\n",
    "        print(\"threshold_diff =\",threshold_diff)\n",
    "    VD = np.asarray(dists_exp<threshold_diff).astype(int)\n",
    "\n",
    "    X_train_flat=X_train.reshape(X_train.shape[0],X_train.shape[1]*X_train.shape[2])\n",
    "    X_flat=X.reshape(X.shape[0],X.shape[1]*X.shape[2])\n",
    "\n",
    "    models_VD=[OneClassSVM(nu=0.01,gamma=gamma).fit(X_train_flat[np.where(vd)]) for vd in VD]\n",
    "\n",
    "    precs = []\n",
    "    coverages = []\n",
    "    coverages_train = []\n",
    "    dist_exp = []\n",
    "    dist_exp_train = []\n",
    "    dist_obs = []\n",
    "    dist_obs_train = []\n",
    "\n",
    "\n",
    "    empty_VD = 0\n",
    "\n",
    "    y_pred_train = np.argmax(model.predict(X_train), axis=1)\n",
    "    y_pred = np.argmax(model.predict(X), axis=1)\n",
    "\n",
    "    for i in range(len(X_train_flat)):\n",
    "        m=models_VD[i]\n",
    "\n",
    "        A_train = np.where(m.predict(X_train_flat)==1)\n",
    "        A = np.where(m.predict(X_flat)==1)\n",
    "\n",
    "        if np.asarray(A).size != 0:\n",
    "            d = pairwise_distances(X_flat[A], metric=\"cosine\")\n",
    "            dist_obs.append(np.max(d))\n",
    "\n",
    "            d_exp = pairwise_distances(shap_values[A], metric=\"cosine\")\n",
    "            dist_exp.append(np.max(d_exp))\n",
    "\n",
    "        if np.asarray(A_train).size != 0:\n",
    "            d_train = pairwise_distances(X_train_flat[A_train], metric=\"cosine\")\n",
    "            dist_obs_train.append(np.max(d_train))\n",
    "\n",
    "            d_exp_train = pairwise_distances(shap_values_train[A_train], metric=\"cosine\")\n",
    "            dist_exp_train.append(np.max(d_exp_train))\n",
    "\n",
    "            pred_i = y_pred_train[i]\n",
    "            pred_A = y_pred[A]\n",
    "            prec = np.sum(pred_i == pred_A)/len(A[0])\n",
    "            cov_train = len(A_train[0])/len(X_train)\n",
    "            cov = len(A[0])/len(X)        \n",
    "            precs.append(prec)\n",
    "            coverages.append(cov)\n",
    "            coverages_train.append(cov_train)\n",
    "        else:\n",
    "            empty_VD+=1\n",
    "            if replace_empty:\n",
    "                precs.append(0) \n",
    "                coverages.append(0)\n",
    "                coverages_train.append(0)\n",
    "\n",
    "    return precs, coverages, dist_exp, empty_VD"
   ]
  },
  {
   "cell_type": "code",
   "execution_count": null,
   "metadata": {},
   "outputs": [],
   "source": [
    "# explainer = shap.Explainer(model.predict,X_train,feature_names=feature_names)\n",
    "# shap_values = explainer(X)\n",
    "# shap_values_train = explainer(X_train)\n",
    "# dists_exp = pairwise_distances(shap_values_train.values)\n",
    "\n",
    "e = shap.DeepExplainer(model, X_train)\n",
    "shap_values = np.asarray(e.shap_values(X))\n",
    "shap_values_train = np.asarray(e.shap_values(X_train))\n",
    "\n",
    "y_pred_train = np.argmax(model.predict(X_train), axis=1)\n",
    "E_train = [shap_values_train[int(y_pred_train[i])][i] for i in range(shap_values_train.shape[1])]\n",
    "E_train = np.asarray(E_train)\n",
    "E_train = E_train.reshape(E_train.shape[0],E_train.shape[1]*E_train.shape[2])\n",
    "\n",
    "y_pred = np.argmax(model.predict(X), axis=1)\n",
    "E = [shap_values[int(y_pred[i])][i] for i in range(shap_values.shape[1])]\n",
    "E = np.asarray(E)\n",
    "E = E.reshape(E.shape[0],E.shape[1]*E.shape[2])\n",
    "dists_exp = pairwise_distances(E_train, metric=\"cosine\")"
   ]
  },
  {
   "cell_type": "code",
   "execution_count": null,
   "metadata": {},
   "outputs": [],
   "source": [
    "precs, coverages, dist_exp, empty_VD = compute_VD_and_scores_img(X, X_train, model, 0.9, 50, E, E_train, dists_exp, replace_empty=True)"
   ]
  },
  {
   "cell_type": "code",
   "execution_count": null,
   "metadata": {},
   "outputs": [],
   "source": [
    "from tqdm import tqdm\n",
    "def grid_search_VD_v2_img(gammas, tds, X, X_train, model):\n",
    "\n",
    "    e = shap.DeepExplainer(model, X_train)\n",
    "    shap_values = np.asarray(e.shap_values(X))\n",
    "    shap_values_train = np.asarray(e.shap_values(X_train))\n",
    "\n",
    "    y_pred_train = np.argmax(model.predict(X_train), axis=1)\n",
    "    E_train = [shap_values_train[int(y_pred_train[i])][i] for i in range(shap_values_train.shape[1])]\n",
    "    E_train = np.asarray(E_train)\n",
    "    E_train = E_train.reshape(E_train.shape[0],E_train.shape[1]*E_train.shape[2])\n",
    "\n",
    "    y_pred = np.argmax(model.predict(X), axis=1)\n",
    "    E = [shap_values[int(y_pred[i])][i] for i in range(shap_values.shape[1])]\n",
    "    E = np.asarray(E)\n",
    "    E = E.reshape(E.shape[0],E.shape[1]*E.shape[2])\n",
    "    dists_exp = pairwise_distances(E_train, metric=\"cosine\")\n",
    "\n",
    "    results_dict = {'hp':[],\n",
    "                     'precisions':[],\n",
    "                     'coverages':[],\n",
    "                     'dist exp':[],\n",
    "                     'empty VDs':[]}\n",
    "    with tqdm(total=len(gammas) * len(tds)) as pbar:\n",
    "        for gamma in gammas:     \n",
    "            for td in tds:\n",
    "                precs, covs, dist_exp, empty_VD = compute_VD_and_scores_img(X, X_train, model, td, gamma, E, E_train, dists_exp, replace_empty=True)\n",
    "                results_dict['precisions'].append(precs)\n",
    "                results_dict['coverages'].append(covs)\n",
    "                results_dict['dist exp'].append(dist_exp)\n",
    "                results_dict['empty VDs'].append(empty_VD)\n",
    "                results_dict['hp'].append((gamma,td))\n",
    "                pbar.update(1)\n",
    "    return results_dict"
   ]
  },
  {
   "cell_type": "code",
   "execution_count": null,
   "metadata": {},
   "outputs": [],
   "source": [
    "gammas = np.linspace(40, 50, 10)\n",
    "tds = np.linspace(0.5, 2, 15)"
   ]
  },
  {
   "cell_type": "code",
   "execution_count": null,
   "metadata": {},
   "outputs": [],
   "source": [
    "results = grid_search_VD_v2_img(gammas, tds, X, X_train, model)"
   ]
  },
  {
   "cell_type": "code",
   "execution_count": null,
   "metadata": {},
   "outputs": [],
   "source": [
    "results.keys()"
   ]
  },
  {
   "cell_type": "code",
   "execution_count": null,
   "metadata": {},
   "outputs": [],
   "source": [
    "def best_hp_VD(mean_precs, mean_cov, empty_VDs):\n",
    "    return np.argmax(np.asarray(mean_precs)+np.asarray(mean_cov)-np.asarray(empty_VDs))\n"
   ]
  },
  {
   "cell_type": "code",
   "execution_count": null,
   "metadata": {},
   "outputs": [],
   "source": [
    "len(results['dist exp'][2])"
   ]
  },
  {
   "cell_type": "code",
   "execution_count": null,
   "metadata": {},
   "outputs": [],
   "source": [
    "mean_precs = np.mean(results['precisions'],axis=1)\n",
    "std_precs = np.std(results['precisions'],axis=1)\n",
    "mean_cov = np.mean(results['coverages'],axis=1)\n",
    "std_cov = np.std(results['coverages'],axis=1)\n",
    "# mean_dist_exp = np.mean(results['dist exp'],axis=1)\n",
    "# std_dist_exp = np.std(results['dist exp'],axis=1)\n",
    "empty_VDs = results['empty VDs']"
   ]
  },
  {
   "cell_type": "code",
   "execution_count": null,
   "metadata": {},
   "outputs": [],
   "source": [
    "best = best_hp_VD(mean_precs, mean_cov, empty_VDs)"
   ]
  },
  {
   "cell_type": "code",
   "execution_count": null,
   "metadata": {},
   "outputs": [],
   "source": [
    "print(\"Best score :\")\n",
    "print(best)\n",
    "print(\"hp values\", results['hp'][best])\n",
    "print(\"Avg Precision\", mean_precs[best], \"+/-\", std_precs[best])\n",
    "print(\"Avg Coverage\", mean_cov[best], \"+/-\", std_cov[best])"
   ]
  },
  {
   "attachments": {},
   "cell_type": "markdown",
   "metadata": {},
   "source": [
    "# MNIST HD"
   ]
  },
  {
   "cell_type": "code",
   "execution_count": 1,
   "metadata": {},
   "outputs": [],
   "source": [
    "from utils import train_model, validity_domains\n",
    "from tensorflow import keras\n",
    "from sklearn.model_selection import train_test_split\n",
    "from sklearn.preprocessing import MinMaxScaler\n",
    "import numpy as np\n",
    "import shap"
   ]
  },
  {
   "cell_type": "code",
   "execution_count": 2,
   "metadata": {},
   "outputs": [],
   "source": [
    "feature_names = []"
   ]
  },
  {
   "cell_type": "code",
   "execution_count": 3,
   "metadata": {},
   "outputs": [],
   "source": [
    "(X_train, y_train), (X_test, y_test) = keras.datasets.mnist.load_data()\n",
    "X=np.concatenate((X_train,X_test))\n",
    "y=np.concatenate((y_train,y_test))\n",
    "X = X/255\n",
    "X = X.reshape(X.shape[0],X.shape[1],X.shape[2],1)\n",
    "y = keras.utils.to_categorical(y, 10)\n",
    "X_train, X_test, y_train, y_test = train_test_split(X, y, test_size=0.2, random_state=42)"
   ]
  },
  {
   "cell_type": "code",
   "execution_count": 4,
   "metadata": {},
   "outputs": [
    {
     "data": {
      "text/plain": [
       "(70000, 28, 28, 1)"
      ]
     },
     "execution_count": 4,
     "metadata": {},
     "output_type": "execute_result"
    }
   ],
   "source": [
    "np.shape(X)"
   ]
  },
  {
   "cell_type": "code",
   "execution_count": 5,
   "metadata": {},
   "outputs": [
    {
     "name": "stdout",
     "output_type": "stream",
     "text": [
      "Model: \"sequential\"\n",
      "_________________________________________________________________\n",
      " Layer (type)                Output Shape              Param #   \n",
      "=================================================================\n",
      " conv2d (Conv2D)             (None, 26, 26, 32)        320       \n",
      "                                                                 \n",
      " flatten (Flatten)           (None, 21632)             0         \n",
      "                                                                 \n",
      " dropout (Dropout)           (None, 21632)             0         \n",
      "                                                                 \n",
      " dense (Dense)               (None, 10)                216330    \n",
      "                                                                 \n",
      "=================================================================\n",
      "Total params: 216,650\n",
      "Trainable params: 216,650\n",
      "Non-trainable params: 0\n",
      "_________________________________________________________________\n",
      "None\n",
      "1750/1750 [==============================] - 35s 20ms/step - loss: 0.2043 - accuracy: 0.9405\n",
      "1244/2188 [================>.............] - ETA: 7s - loss: 0.0819 - accuracy: 0.9769"
     ]
    },
    {
     "ename": "KeyboardInterrupt",
     "evalue": "",
     "output_type": "error",
     "traceback": [
      "\u001b[1;31m---------------------------------------------------------------------------\u001b[0m",
      "\u001b[1;31mKeyboardInterrupt\u001b[0m                         Traceback (most recent call last)",
      "Cell \u001b[1;32mIn[5], line 2\u001b[0m\n\u001b[0;32m      1\u001b[0m model \u001b[39m=\u001b[39m train_model(X_train,y_train, model_name\u001b[39m=\u001b[39m\u001b[39m\"\u001b[39m\u001b[39mimage\u001b[39m\u001b[39m\"\u001b[39m)\n\u001b[1;32m----> 2\u001b[0m \u001b[39mprint\u001b[39m(model\u001b[39m.\u001b[39;49mevaluate(X, y))\n\u001b[0;32m      3\u001b[0m \u001b[39mprint\u001b[39m(model\u001b[39m.\u001b[39mevaluate(X_test, y_test))\n",
      "File \u001b[1;32mc:\\Users\\robin\\Work\\Validity-domain-explanations\\env-xai-validity\\lib\\site-packages\\keras\\utils\\traceback_utils.py:65\u001b[0m, in \u001b[0;36mfilter_traceback.<locals>.error_handler\u001b[1;34m(*args, **kwargs)\u001b[0m\n\u001b[0;32m     63\u001b[0m filtered_tb \u001b[39m=\u001b[39m \u001b[39mNone\u001b[39;00m\n\u001b[0;32m     64\u001b[0m \u001b[39mtry\u001b[39;00m:\n\u001b[1;32m---> 65\u001b[0m     \u001b[39mreturn\u001b[39;00m fn(\u001b[39m*\u001b[39margs, \u001b[39m*\u001b[39m\u001b[39m*\u001b[39mkwargs)\n\u001b[0;32m     66\u001b[0m \u001b[39mexcept\u001b[39;00m \u001b[39mException\u001b[39;00m \u001b[39mas\u001b[39;00m e:\n\u001b[0;32m     67\u001b[0m     filtered_tb \u001b[39m=\u001b[39m _process_traceback_frames(e\u001b[39m.\u001b[39m__traceback__)\n",
      "File \u001b[1;32mc:\\Users\\robin\\Work\\Validity-domain-explanations\\env-xai-validity\\lib\\site-packages\\keras\\engine\\training.py:2072\u001b[0m, in \u001b[0;36mModel.evaluate\u001b[1;34m(self, x, y, batch_size, verbose, sample_weight, steps, callbacks, max_queue_size, workers, use_multiprocessing, return_dict, **kwargs)\u001b[0m\n\u001b[0;32m   2068\u001b[0m \u001b[39mwith\u001b[39;00m tf\u001b[39m.\u001b[39mprofiler\u001b[39m.\u001b[39mexperimental\u001b[39m.\u001b[39mTrace(\n\u001b[0;32m   2069\u001b[0m     \u001b[39m\"\u001b[39m\u001b[39mtest\u001b[39m\u001b[39m\"\u001b[39m, step_num\u001b[39m=\u001b[39mstep, _r\u001b[39m=\u001b[39m\u001b[39m1\u001b[39m\n\u001b[0;32m   2070\u001b[0m ):\n\u001b[0;32m   2071\u001b[0m     callbacks\u001b[39m.\u001b[39mon_test_batch_begin(step)\n\u001b[1;32m-> 2072\u001b[0m     tmp_logs \u001b[39m=\u001b[39m \u001b[39mself\u001b[39;49m\u001b[39m.\u001b[39;49mtest_function(iterator)\n\u001b[0;32m   2073\u001b[0m     \u001b[39mif\u001b[39;00m data_handler\u001b[39m.\u001b[39mshould_sync:\n\u001b[0;32m   2074\u001b[0m         context\u001b[39m.\u001b[39masync_wait()\n",
      "File \u001b[1;32mc:\\Users\\robin\\Work\\Validity-domain-explanations\\env-xai-validity\\lib\\site-packages\\tensorflow\\python\\util\\traceback_utils.py:150\u001b[0m, in \u001b[0;36mfilter_traceback.<locals>.error_handler\u001b[1;34m(*args, **kwargs)\u001b[0m\n\u001b[0;32m    148\u001b[0m filtered_tb \u001b[39m=\u001b[39m \u001b[39mNone\u001b[39;00m\n\u001b[0;32m    149\u001b[0m \u001b[39mtry\u001b[39;00m:\n\u001b[1;32m--> 150\u001b[0m   \u001b[39mreturn\u001b[39;00m fn(\u001b[39m*\u001b[39margs, \u001b[39m*\u001b[39m\u001b[39m*\u001b[39mkwargs)\n\u001b[0;32m    151\u001b[0m \u001b[39mexcept\u001b[39;00m \u001b[39mException\u001b[39;00m \u001b[39mas\u001b[39;00m e:\n\u001b[0;32m    152\u001b[0m   filtered_tb \u001b[39m=\u001b[39m _process_traceback_frames(e\u001b[39m.\u001b[39m__traceback__)\n",
      "File \u001b[1;32mc:\\Users\\robin\\Work\\Validity-domain-explanations\\env-xai-validity\\lib\\site-packages\\tensorflow\\python\\eager\\polymorphic_function\\polymorphic_function.py:894\u001b[0m, in \u001b[0;36mFunction.__call__\u001b[1;34m(self, *args, **kwds)\u001b[0m\n\u001b[0;32m    891\u001b[0m compiler \u001b[39m=\u001b[39m \u001b[39m\"\u001b[39m\u001b[39mxla\u001b[39m\u001b[39m\"\u001b[39m \u001b[39mif\u001b[39;00m \u001b[39mself\u001b[39m\u001b[39m.\u001b[39m_jit_compile \u001b[39melse\u001b[39;00m \u001b[39m\"\u001b[39m\u001b[39mnonXla\u001b[39m\u001b[39m\"\u001b[39m\n\u001b[0;32m    893\u001b[0m \u001b[39mwith\u001b[39;00m OptionalXlaContext(\u001b[39mself\u001b[39m\u001b[39m.\u001b[39m_jit_compile):\n\u001b[1;32m--> 894\u001b[0m   result \u001b[39m=\u001b[39m \u001b[39mself\u001b[39m\u001b[39m.\u001b[39m_call(\u001b[39m*\u001b[39margs, \u001b[39m*\u001b[39m\u001b[39m*\u001b[39mkwds)\n\u001b[0;32m    896\u001b[0m new_tracing_count \u001b[39m=\u001b[39m \u001b[39mself\u001b[39m\u001b[39m.\u001b[39mexperimental_get_tracing_count()\n\u001b[0;32m    897\u001b[0m without_tracing \u001b[39m=\u001b[39m (tracing_count \u001b[39m==\u001b[39m new_tracing_count)\n",
      "File \u001b[1;32mc:\\Users\\robin\\Work\\Validity-domain-explanations\\env-xai-validity\\lib\\site-packages\\tensorflow\\python\\eager\\polymorphic_function\\polymorphic_function.py:933\u001b[0m, in \u001b[0;36mFunction._call\u001b[1;34m(self, *args, **kwds)\u001b[0m\n\u001b[0;32m    930\u001b[0m \u001b[39mself\u001b[39m\u001b[39m.\u001b[39m_lock\u001b[39m.\u001b[39mrelease()\n\u001b[0;32m    931\u001b[0m \u001b[39m# In this case we have not created variables on the first call. So we can\u001b[39;00m\n\u001b[0;32m    932\u001b[0m \u001b[39m# run the first trace but we should fail if variables are created.\u001b[39;00m\n\u001b[1;32m--> 933\u001b[0m results \u001b[39m=\u001b[39m \u001b[39mself\u001b[39m\u001b[39m.\u001b[39m_variable_creation_fn(\u001b[39m*\u001b[39margs, \u001b[39m*\u001b[39m\u001b[39m*\u001b[39mkwds)\n\u001b[0;32m    934\u001b[0m \u001b[39mif\u001b[39;00m \u001b[39mself\u001b[39m\u001b[39m.\u001b[39m_created_variables \u001b[39mand\u001b[39;00m \u001b[39mnot\u001b[39;00m ALLOW_DYNAMIC_VARIABLE_CREATION:\n\u001b[0;32m    935\u001b[0m   \u001b[39mraise\u001b[39;00m \u001b[39mValueError\u001b[39;00m(\u001b[39m\"\u001b[39m\u001b[39mCreating variables on a non-first call to a function\u001b[39m\u001b[39m\"\u001b[39m\n\u001b[0;32m    936\u001b[0m                    \u001b[39m\"\u001b[39m\u001b[39m decorated with tf.function.\u001b[39m\u001b[39m\"\u001b[39m)\n",
      "File \u001b[1;32mc:\\Users\\robin\\Work\\Validity-domain-explanations\\env-xai-validity\\lib\\site-packages\\tensorflow\\python\\eager\\polymorphic_function\\tracing_compiler.py:143\u001b[0m, in \u001b[0;36mTracingCompiler.__call__\u001b[1;34m(self, *args, **kwargs)\u001b[0m\n\u001b[0;32m    140\u001b[0m \u001b[39mwith\u001b[39;00m \u001b[39mself\u001b[39m\u001b[39m.\u001b[39m_lock:\n\u001b[0;32m    141\u001b[0m   (concrete_function,\n\u001b[0;32m    142\u001b[0m    filtered_flat_args) \u001b[39m=\u001b[39m \u001b[39mself\u001b[39m\u001b[39m.\u001b[39m_maybe_define_function(args, kwargs)\n\u001b[1;32m--> 143\u001b[0m \u001b[39mreturn\u001b[39;00m concrete_function\u001b[39m.\u001b[39;49m_call_flat(\n\u001b[0;32m    144\u001b[0m     filtered_flat_args, captured_inputs\u001b[39m=\u001b[39;49mconcrete_function\u001b[39m.\u001b[39;49mcaptured_inputs)\n",
      "File \u001b[1;32mc:\\Users\\robin\\Work\\Validity-domain-explanations\\env-xai-validity\\lib\\site-packages\\tensorflow\\python\\eager\\polymorphic_function\\monomorphic_function.py:1757\u001b[0m, in \u001b[0;36mConcreteFunction._call_flat\u001b[1;34m(self, args, captured_inputs, cancellation_manager)\u001b[0m\n\u001b[0;32m   1753\u001b[0m possible_gradient_type \u001b[39m=\u001b[39m gradients_util\u001b[39m.\u001b[39mPossibleTapeGradientTypes(args)\n\u001b[0;32m   1754\u001b[0m \u001b[39mif\u001b[39;00m (possible_gradient_type \u001b[39m==\u001b[39m gradients_util\u001b[39m.\u001b[39mPOSSIBLE_GRADIENT_TYPES_NONE\n\u001b[0;32m   1755\u001b[0m     \u001b[39mand\u001b[39;00m executing_eagerly):\n\u001b[0;32m   1756\u001b[0m   \u001b[39m# No tape is watching; skip to running the function.\u001b[39;00m\n\u001b[1;32m-> 1757\u001b[0m   \u001b[39mreturn\u001b[39;00m \u001b[39mself\u001b[39m\u001b[39m.\u001b[39m_build_call_outputs(\u001b[39mself\u001b[39;49m\u001b[39m.\u001b[39;49m_inference_function\u001b[39m.\u001b[39;49mcall(\n\u001b[0;32m   1758\u001b[0m       ctx, args, cancellation_manager\u001b[39m=\u001b[39;49mcancellation_manager))\n\u001b[0;32m   1759\u001b[0m forward_backward \u001b[39m=\u001b[39m \u001b[39mself\u001b[39m\u001b[39m.\u001b[39m_select_forward_and_backward_functions(\n\u001b[0;32m   1760\u001b[0m     args,\n\u001b[0;32m   1761\u001b[0m     possible_gradient_type,\n\u001b[0;32m   1762\u001b[0m     executing_eagerly)\n\u001b[0;32m   1763\u001b[0m forward_function, args_with_tangents \u001b[39m=\u001b[39m forward_backward\u001b[39m.\u001b[39mforward()\n",
      "File \u001b[1;32mc:\\Users\\robin\\Work\\Validity-domain-explanations\\env-xai-validity\\lib\\site-packages\\tensorflow\\python\\eager\\polymorphic_function\\monomorphic_function.py:381\u001b[0m, in \u001b[0;36m_EagerDefinedFunction.call\u001b[1;34m(self, ctx, args, cancellation_manager)\u001b[0m\n\u001b[0;32m    379\u001b[0m \u001b[39mwith\u001b[39;00m _InterpolateFunctionError(\u001b[39mself\u001b[39m):\n\u001b[0;32m    380\u001b[0m   \u001b[39mif\u001b[39;00m cancellation_manager \u001b[39mis\u001b[39;00m \u001b[39mNone\u001b[39;00m:\n\u001b[1;32m--> 381\u001b[0m     outputs \u001b[39m=\u001b[39m execute\u001b[39m.\u001b[39;49mexecute(\n\u001b[0;32m    382\u001b[0m         \u001b[39mstr\u001b[39;49m(\u001b[39mself\u001b[39;49m\u001b[39m.\u001b[39;49msignature\u001b[39m.\u001b[39;49mname),\n\u001b[0;32m    383\u001b[0m         num_outputs\u001b[39m=\u001b[39;49m\u001b[39mself\u001b[39;49m\u001b[39m.\u001b[39;49m_num_outputs,\n\u001b[0;32m    384\u001b[0m         inputs\u001b[39m=\u001b[39;49margs,\n\u001b[0;32m    385\u001b[0m         attrs\u001b[39m=\u001b[39;49mattrs,\n\u001b[0;32m    386\u001b[0m         ctx\u001b[39m=\u001b[39;49mctx)\n\u001b[0;32m    387\u001b[0m   \u001b[39melse\u001b[39;00m:\n\u001b[0;32m    388\u001b[0m     outputs \u001b[39m=\u001b[39m execute\u001b[39m.\u001b[39mexecute_with_cancellation(\n\u001b[0;32m    389\u001b[0m         \u001b[39mstr\u001b[39m(\u001b[39mself\u001b[39m\u001b[39m.\u001b[39msignature\u001b[39m.\u001b[39mname),\n\u001b[0;32m    390\u001b[0m         num_outputs\u001b[39m=\u001b[39m\u001b[39mself\u001b[39m\u001b[39m.\u001b[39m_num_outputs,\n\u001b[1;32m   (...)\u001b[0m\n\u001b[0;32m    393\u001b[0m         ctx\u001b[39m=\u001b[39mctx,\n\u001b[0;32m    394\u001b[0m         cancellation_manager\u001b[39m=\u001b[39mcancellation_manager)\n",
      "File \u001b[1;32mc:\\Users\\robin\\Work\\Validity-domain-explanations\\env-xai-validity\\lib\\site-packages\\tensorflow\\python\\eager\\execute.py:52\u001b[0m, in \u001b[0;36mquick_execute\u001b[1;34m(op_name, num_outputs, inputs, attrs, ctx, name)\u001b[0m\n\u001b[0;32m     50\u001b[0m \u001b[39mtry\u001b[39;00m:\n\u001b[0;32m     51\u001b[0m   ctx\u001b[39m.\u001b[39mensure_initialized()\n\u001b[1;32m---> 52\u001b[0m   tensors \u001b[39m=\u001b[39m pywrap_tfe\u001b[39m.\u001b[39;49mTFE_Py_Execute(ctx\u001b[39m.\u001b[39;49m_handle, device_name, op_name,\n\u001b[0;32m     53\u001b[0m                                       inputs, attrs, num_outputs)\n\u001b[0;32m     54\u001b[0m \u001b[39mexcept\u001b[39;00m core\u001b[39m.\u001b[39m_NotOkStatusException \u001b[39mas\u001b[39;00m e:\n\u001b[0;32m     55\u001b[0m   \u001b[39mif\u001b[39;00m name \u001b[39mis\u001b[39;00m \u001b[39mnot\u001b[39;00m \u001b[39mNone\u001b[39;00m:\n",
      "\u001b[1;31mKeyboardInterrupt\u001b[0m: "
     ]
    }
   ],
   "source": [
    "model = train_model(X_train,y_train, model_name=\"image\")\n",
    "print(model.evaluate(X, y))\n",
    "print(model.evaluate(X_test, y_test))"
   ]
  },
  {
   "cell_type": "code",
   "execution_count": null,
   "metadata": {},
   "outputs": [],
   "source": [
    "X_train_subset = X_train[np.random.choice(np.arange(len(X_train)), 100, replace=False)]"
   ]
  },
  {
   "cell_type": "code",
   "execution_count": null,
   "metadata": {},
   "outputs": [],
   "source": [
    "e = shap.DeepExplainer(model, X_train_subset)"
   ]
  },
  {
   "cell_type": "code",
   "execution_count": null,
   "metadata": {},
   "outputs": [],
   "source": [
    "shap_values = e.shap_values(X_test[1:5])\n",
    "shap.image_plot(shap_values, -X_test[1:5])"
   ]
  },
  {
   "cell_type": "code",
   "execution_count": null,
   "metadata": {},
   "outputs": [],
   "source": [
    "from utils import get_explanations\n",
    "def validity_domain(idx,X_train,threshold_diff=0.5,gamma=20):\n",
    "    VD = np.asarray(dists_exp<threshold_diff).astype(int)\n",
    "    vd = VD[idx]\n",
    "    clf = OneClassSVM(nu=0.01,gamma=gamma).fit(X_train[np.where(vd)])\n",
    "    model_VD=clf\n",
    "    return VD, model_VD"
   ]
  },
  {
   "cell_type": "code",
   "execution_count": null,
   "metadata": {},
   "outputs": [],
   "source": [
    "explanations, explainer = get_explanations(\"DeepSHAP\", model, X_train, feature_names)"
   ]
  },
  {
   "cell_type": "code",
   "execution_count": null,
   "metadata": {},
   "outputs": [],
   "source": [
    "import pickle\n",
    "from sklearn.metrics import pairwise_distances"
   ]
  },
  {
   "cell_type": "code",
   "execution_count": null,
   "metadata": {},
   "outputs": [],
   "source": [
    "# pickle.dump(explanations, open(\"explanations_MNIST.p\", \"wb\"))\n",
    "explanations = pickle.load(open(\"explanations_MNIST.p\", \"rb\"))"
   ]
  },
  {
   "cell_type": "code",
   "execution_count": null,
   "metadata": {},
   "outputs": [],
   "source": [
    "y_pred = np.argmax(model.predict(X_train), axis=1)\n",
    "E = [explanations[i][int(y_pred[i])] for i in range(len(explanations))]\n",
    "dists_exp = pairwise_distances(E, metric=\"cosine\")"
   ]
  },
  {
   "cell_type": "code",
   "execution_count": null,
   "metadata": {},
   "outputs": [],
   "source": [
    "# VD, model_VD = validity_domain(0,X_train,threshold_diff=0.5,gamma=20)\n",
    "VD = np.asarray(dists_exp<0.001).astype(int)"
   ]
  },
  {
   "cell_type": "code",
   "execution_count": null,
   "metadata": {},
   "outputs": [],
   "source": [
    "for i in range(len(VD)):\n",
    "    vd = VD[i]\n",
    "    print(i,X_train[np.where(vd)].shape)\n",
    "    if X_train[np.where(vd)].shape[0]>100:\n",
    "        break"
   ]
  },
  {
   "cell_type": "code",
   "execution_count": null,
   "metadata": {},
   "outputs": [],
   "source": [
    "from sklearn.svm import OneClassSVM\n",
    "X_train_flat=X_train.reshape(X_train.shape[0],X_train.shape[1]*X_train.shape[2])\n",
    "vd = VD[7]\n",
    "clf = OneClassSVM(nu=0.01,gamma=20).fit(X_train_flat[np.where(vd)])"
   ]
  },
  {
   "cell_type": "code",
   "execution_count": null,
   "metadata": {},
   "outputs": [],
   "source": [
    "def explanation_VD_img(idx, X_test, X_train, VD, model, model_VD, feature_names):\n",
    "    vd = VD[idx]\n",
    "    X_train_flat=X_train.reshape(X_train.shape[0],X_train.shape[1]*X_train.shape[2])\n",
    "    # pca = PCA(n_components=2)\n",
    "    # X_train_PCA = pca.fit_transform(X_train_flat)\n",
    "\n",
    "    # X_test_flat=X_test.reshape(X_test.shape[0],X_test.shape[1]*X_test.shape[2])\n",
    "    # pca = PCA(n_components=2)\n",
    "    # X_test_PCA = pca.fit_transform(X_test_flat)\n",
    "\n",
    "    # plt.figure()\n",
    "    # # disp = DecisionBoundaryDisplay.from_estimator(models_VD[idx], X_train,eps=0.1, grid_resolution=500, alpha=0.4, response_method=\"predict\", plot_method='contour')\n",
    "    # y_pred_train = np.argmax(model.predict(X_train), axis=1)\n",
    "    # plt.scatter(X_train_PCA[:,0],X_train_PCA[:,1], c = y_pred_train, edgecolor='k',cmap='viridis')\n",
    "    # plt.scatter(X_train_PCA[:,0][np.where(vd)],X_train_PCA[:,1][np.where(vd)], edgecolor='k',cmap='winter', marker='X')\n",
    "    # plt.scatter(X_test_PCA[:,0],X_test_PCA[:,1], c='white',edgecolor='k')\n",
    "    # plt.scatter(X_train_PCA[idx,0],X_train_PCA[idx,1], c='r', marker='X')\n",
    "    # plt.xlabel(feature_names[0])\n",
    "    # plt.ylabel(feature_names[1])\n",
    "    # plt.xlabel(\"$x_0$\")\n",
    "    # plt.ylabel(\"$x_1$\")\n",
    "    # plt.show()\n",
    "\n",
    "    m = model_VD\n",
    "    A_train = np.where(m.predict(X_train_flat)==1)\n",
    "    X_train_subset = X_train[np.random.choice(np.arange(len(X_train)), 100, replace=False)]\n",
    "    # print(idx)\n",
    "    # print(A_train)\n",
    "    e = shap.DeepExplainer(model, X_train_subset)\n",
    "\n",
    "    # shap_values = e.shap_values(X_train[A_train][0:5])\n",
    "    # shap.image_plot(shap_values, X_train[A_train][0:5])\n",
    "\n",
    "    # shap_values = np.asarray(e.shap_values(X_train[A_train]))\n",
    "    # # print(shap_values.shape)\n",
    "    # pred=np.argmax(model.predict(X_train[A_train]), axis=1)\n",
    "    # # print(pred)\n",
    "    # shap_values_flatten = shap_values[pred[0]].reshape(shap_values.shape[1],shap_values.shape[2]*shap_values.shape[3])\n",
    "    # d_exp = pairwise_distances(shap_values_flatten, metric=\"cosine\")\n",
    "    # nearest = np.argsort(d_exp[0])[0:5]\n",
    "    # print(nearest)\n",
    "\n",
    "    # shap_values = e.shap_values(X_train[A_train][nearest])\n",
    "    # shap.image_plot(shap_values, X_train[A_train][nearest])\n",
    "\n",
    "    d_obs = pairwise_distances(X_train_flat[A_train], metric=\"cosine\")\n",
    "    # print(d_obs)\n",
    "    furthest = np.argsort(d_obs[0])[::-1][0:2]\n",
    "\n",
    "    furthest = np.append(furthest,0)\n",
    "\n",
    "    preds=np.argmax(model.predict(X_train), axis=1)\n",
    "    same_class = np.where(preds == preds[idx])\n",
    "    # print(same_class.shape)\n",
    "    # same_class = np.where(np.argmax(y_train, axis=1) == np.argmax(y_train[idx]))\n",
    "    # d_obs = pairwise_distances(X_train_flat[same_class], metric=\"cosine\")\n",
    "    # most_furtherest = np.argsort(d_obs[idx])[::-1][0:8]\n",
    "    # most_furtherest = np.argsort(dists_exp[idx])[same_class[0]][::-1][0]\n",
    "    most_furtherest = same_class[0:10]\n",
    "    print(most_furtherest)\n",
    "    # furthest = np.append(furthest,most_furtherest)\n",
    "    # print(A_train[furthest].tolist())\n",
    "    # print(A_train[0])\n",
    "    # print(furthest)\n",
    "    l = A_train[0][furthest].tolist()\n",
    "    # print(l)\n",
    "    # l.append(1)\n",
    "    print(l)\n",
    "    X_subset = X_train[l]\n",
    "    # print(X_train[A_train][furthest].shape)\n",
    "    # print(X_train[most_furtherest].shape)\n",
    "    # X_subset = np.append(X_train[A_train][furthest],X_train[most_furtherest], axis=0)\n",
    "    # X_subset = X_train[A_train][furthest]\n",
    "    # print(X_subset.shape)\n",
    "    shap_values = e.shap_values(X_subset)\n",
    "    shap.image_plot(shap_values[4], X_subset)\n",
    "    # print(most_furtherest)\n",
    "    # print(X_train[most_furtherest].shape)\n",
    "    # shap_values = e.shap_values(X_train[most_furtherest])\n",
    "    shap.image_plot(shap_values[4], X_train[most_furtherest])\n",
    "    shap_values = e.shap_values(X_train[most_furtherest])\n",
    "    # shap.image_plot(shap_values[4], X_train[most_furtherest])"
   ]
  },
  {
   "cell_type": "code",
   "execution_count": null,
   "metadata": {},
   "outputs": [],
   "source": [
    "np.argmax(y_train[7])"
   ]
  },
  {
   "cell_type": "code",
   "execution_count": null,
   "metadata": {},
   "outputs": [],
   "source": [
    "np.argmax(y_train, axis=1)"
   ]
  },
  {
   "cell_type": "code",
   "execution_count": null,
   "metadata": {},
   "outputs": [],
   "source": [
    "np.where(np.argmax(y_train, axis=1) == np.argmax(y_train[7]))"
   ]
  },
  {
   "cell_type": "code",
   "execution_count": null,
   "metadata": {},
   "outputs": [],
   "source": [
    "explanation_VD_img(7, X_test, X_train, VD, model, clf, feature_names)"
   ]
  },
  {
   "cell_type": "code",
   "execution_count": null,
   "metadata": {},
   "outputs": [],
   "source": [
    "explanation_VD_img(7, X_test, X_train, VD, model, clf, feature_names)"
   ]
  },
  {
   "cell_type": "code",
   "execution_count": null,
   "metadata": {},
   "outputs": [],
   "source": [
    "np.where(VD[7])"
   ]
  },
  {
   "cell_type": "code",
   "execution_count": null,
   "metadata": {},
   "outputs": [],
   "source": [
    "preds=np.argmax(model.predict(X_train), axis=1)"
   ]
  },
  {
   "cell_type": "code",
   "execution_count": null,
   "metadata": {},
   "outputs": [],
   "source": [
    "np.where(preds == preds[7])"
   ]
  },
  {
   "attachments": {},
   "cell_type": "markdown",
   "metadata": {},
   "source": [
    "# MNIST HD scaled dist and class sep"
   ]
  },
  {
   "cell_type": "code",
   "execution_count": 158,
   "metadata": {},
   "outputs": [],
   "source": [
    "from utils import train_model\n",
    "from tensorflow import keras\n",
    "from sklearn.model_selection import train_test_split\n",
    "from sklearn.preprocessing import MinMaxScaler\n",
    "from sklearn.metrics import pairwise_distances\n",
    "import numpy as np\n",
    "import shap"
   ]
  },
  {
   "cell_type": "code",
   "execution_count": 159,
   "metadata": {},
   "outputs": [],
   "source": [
    "feature_names = []\n",
    "(X_train, y_train), (X_test, y_test) = keras.datasets.mnist.load_data()\n",
    "X=np.concatenate((X_train,X_test))\n",
    "y=np.concatenate((y_train,y_test))\n",
    "X = X/255\n",
    "X = X.reshape(X.shape[0],X.shape[1],X.shape[2],1)\n",
    "y = keras.utils.to_categorical(y, 10)\n",
    "X_train, X_test, y_train, y_test = train_test_split(X, y, test_size=0.2, random_state=42)"
   ]
  },
  {
   "cell_type": "code",
   "execution_count": 160,
   "metadata": {},
   "outputs": [
    {
     "name": "stdout",
     "output_type": "stream",
     "text": [
      "1750/1750 [==============================] - 15s 8ms/step - loss: 0.2069 - accuracy: 0.9405\n",
      "2188/2188 [==============================] - 6s 3ms/step - loss: 0.0818 - accuracy: 0.9772\n",
      "[0.08175007998943329, 0.9771857261657715]\n",
      "438/438 [==============================] - 1s 3ms/step - loss: 0.1018 - accuracy: 0.9708\n",
      "[0.10177158564329147, 0.9707857370376587]\n"
     ]
    }
   ],
   "source": [
    "model = train_model(X_train,y_train, model_name=\"image\")\n",
    "print(model.evaluate(X, y))\n",
    "print(model.evaluate(X_test, y_test))"
   ]
  },
  {
   "cell_type": "code",
   "execution_count": 161,
   "metadata": {},
   "outputs": [],
   "source": [
    "X_train_subset = X_train[np.random.choice(np.arange(len(X_train)), 100, replace=False)]"
   ]
  },
  {
   "cell_type": "code",
   "execution_count": 162,
   "metadata": {},
   "outputs": [
    {
     "name": "stdout",
     "output_type": "stream",
     "text": [
      "4/4 [==============================] - 0s 2ms/step\n"
     ]
    }
   ],
   "source": [
    "y_pred = model.predict(X_train_subset)\n",
    "y_pred = np.argmax(y_pred, axis = 1)"
   ]
  },
  {
   "cell_type": "code",
   "execution_count": 163,
   "metadata": {},
   "outputs": [],
   "source": [
    "e = shap.DeepExplainer(model, X_train_subset)"
   ]
  },
  {
   "cell_type": "code",
   "execution_count": 164,
   "metadata": {},
   "outputs": [],
   "source": [
    "shap_values = e.shap_values(X_train_subset)"
   ]
  },
  {
   "cell_type": "code",
   "execution_count": 294,
   "metadata": {},
   "outputs": [],
   "source": [
    "E = [shap_values[int(y_pred[i])][i] for i in range(len(X_train_subset))]"
   ]
  },
  {
   "cell_type": "code",
   "execution_count": 295,
   "metadata": {},
   "outputs": [],
   "source": [
    "E = np.asarray(E).reshape(100,28*28)"
   ]
  },
  {
   "cell_type": "code",
   "execution_count": 296,
   "metadata": {},
   "outputs": [],
   "source": [
    "classes = np.unique(np.argmax(y, axis = 1))"
   ]
  },
  {
   "cell_type": "code",
   "execution_count": 297,
   "metadata": {},
   "outputs": [],
   "source": [
    "scaler = MinMaxScaler()\n",
    "dists_exp = {c : scaler.fit_transform(pairwise_distances(E[np.where(y_pred==c)], metric=\"cosine\")) for c in classes}"
   ]
  },
  {
   "cell_type": "code",
   "execution_count": 298,
   "metadata": {},
   "outputs": [],
   "source": [
    "threshold_diff = 0.2\n",
    "VD = {c : np.asarray(dists_exp[c]<threshold_diff).astype(int) for c in classes}"
   ]
  },
  {
   "cell_type": "code",
   "execution_count": 299,
   "metadata": {},
   "outputs": [
    {
     "name": "stdout",
     "output_type": "stream",
     "text": [
      "{0: array([ 7, 30, 33, 34, 55, 62, 66, 80, 88, 94, 95], dtype=int64), 1: array([ 6,  8, 12, 19, 21, 32, 52, 60, 83, 99], dtype=int64), 2: array([73, 92, 97], dtype=int64), 3: array([11, 20, 24, 29, 38, 44, 51, 65, 78], dtype=int64), 4: array([ 2, 31, 36, 46, 49, 50, 58, 61, 63, 67, 81], dtype=int64), 5: array([ 1,  4,  5, 13, 18, 25, 39, 43, 56, 64, 70, 71, 77, 84, 90, 96],\n",
      "      dtype=int64), 6: array([ 9, 16, 17, 22, 45, 47, 69, 75, 79], dtype=int64), 7: array([10, 41, 48, 53, 59, 74, 91], dtype=int64), 8: array([14, 26, 28, 57, 68, 72, 76, 85, 86, 89, 93, 98], dtype=int64), 9: array([ 0,  3, 15, 23, 27, 35, 37, 40, 42, 54, 82, 87], dtype=int64)}\n"
     ]
    }
   ],
   "source": [
    "pred_idx = {c : np.where(y_pred==c)[0] for c in classes}\n",
    "print(pred_idx)"
   ]
  },
  {
   "cell_type": "code",
   "execution_count": 300,
   "metadata": {},
   "outputs": [
    {
     "name": "stdout",
     "output_type": "stream",
     "text": [
      "____ 0 ____\n",
      "___________\n",
      "____ 1 ____\n",
      "2 12 2\n",
      "5 32 3\n",
      "6 52 2\n",
      "8 83 2\n",
      "___________\n",
      "____ 2 ____\n",
      "___________\n",
      "____ 3 ____\n",
      "___________\n",
      "____ 4 ____\n",
      "___________\n",
      "____ 5 ____\n",
      "___________\n",
      "____ 6 ____\n",
      "___________\n",
      "____ 7 ____\n",
      "___________\n",
      "____ 8 ____\n",
      "___________\n",
      "____ 9 ____\n",
      "___________\n"
     ]
    }
   ],
   "source": [
    "for c in classes:\n",
    "    print(\"____\",c,\"____\")\n",
    "    for i,v in enumerate(VD[c]):\n",
    "        tot=np.sum(v)\n",
    "        if tot>1:\n",
    "            print(i, pred_idx[c][i], tot)\n",
    "    print(\"___________\")"
   ]
  },
  {
   "cell_type": "code",
   "execution_count": 305,
   "metadata": {},
   "outputs": [
    {
     "name": "stdout",
     "output_type": "stream",
     "text": [
      "[0 0 1 0 0 1 0 0 0 0]\n",
      "[ 6  8 12 19 21 32 52 60 83 99]\n"
     ]
    }
   ],
   "source": [
    "i=12\n",
    "c = y_pred[i]\n",
    "X_train_c = X_train_subset[pred_idx[c]]\n",
    "VD_c = VD[c]\n",
    "idx_vd = np.where(pred_idx[c]==i)[0][0]\n",
    "print(VD_c[idx_vd])\n",
    "print(pred_idx[c])"
   ]
  },
  {
   "cell_type": "code",
   "execution_count": 306,
   "metadata": {},
   "outputs": [
    {
     "name": "stdout",
     "output_type": "stream",
     "text": [
      "[12 32]\n"
     ]
    }
   ],
   "source": [
    "oui = pred_idx[c][np.where(VD_c[idx_vd])]\n",
    "print(oui)"
   ]
  },
  {
   "cell_type": "code",
   "execution_count": 307,
   "metadata": {},
   "outputs": [
    {
     "data": {
      "image/png": "[encoded data removed]",
      "text/plain": [
       "<Figure size 600x750 with 5 Axes>"
      ]
     },
     "metadata": {},
     "output_type": "display_data"
    }
   ],
   "source": [
    "shap.image_plot(shap_values[c][oui], -X_train_subset[oui])\n",
    "# shap.image_plot(shap_values[:,oui], -X_train_subset[oui])"
   ]
  },
  {
   "cell_type": "code",
   "execution_count": 309,
   "metadata": {},
   "outputs": [
    {
     "data": {
      "image/png": "[encoded data removed]",
      "text/plain": [
       "<Figure size 600x1000 with 7 Axes>"
      ]
     },
     "metadata": {},
     "output_type": "display_data"
    }
   ],
   "source": [
    "non = [12, 32, 6]\n",
    "shap.image_plot(shap_values[c][non], -X_train_subset[non])"
   ]
  },
  {
   "cell_type": "code",
   "execution_count": null,
   "metadata": {},
   "outputs": [],
   "source": []
  }
 ],
 "metadata": {
  "kernelspec": {
   "display_name": "env-xai-validity",
   "language": "python",
   "name": "python3"
  },
  "language_info": {
   "codemirror_mode": {
    "name": "ipython",
    "version": 3
   },
   "file_extension": ".py",
   "mimetype": "text/x-python",
   "name": "python",
   "nbconvert_exporter": "python",
   "pygments_lexer": "ipython3",
   "version": "3.9.4"
  },
  "orig_nbformat": 4
 },
 "nbformat": 4,
 "nbformat_minor": 2
}
